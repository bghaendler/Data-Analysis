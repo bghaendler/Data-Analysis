{
  "nbformat": 4,
  "nbformat_minor": 0,
  "metadata": {
    "colab": {
      "name": "Fraud Detection with Synthetic Financial Datasets.ipynb",
      "version": "0.3.2",
      "provenance": [],
      "toc_visible": true,
      "include_colab_link": true
    },
    "kernelspec": {
      "name": "python3",
      "display_name": "Python 3"
    }
  },
  "cells": [
    {
      "cell_type": "markdown",
      "metadata": {
        "id": "view-in-github",
        "colab_type": "text"
      },
      "source": [
        "<a href=\"https://colab.research.google.com/github/bghaendler/Data-Analysis/blob/master/Fraud_Detection_with_Synthetic_Financial_Datasets.ipynb\" target=\"_parent\"><img src=\"https://colab.research.google.com/assets/colab-badge.svg\" alt=\"Open In Colab\"/></a>"
      ]
    },
    {
      "cell_type": "markdown",
      "metadata": {
        "id": "eRUexMYJzmfT",
        "colab_type": "text"
      },
      "source": [
        "# Fraud Detection with Synthetic Financial Datasets "
      ]
    },
    {
      "cell_type": "code",
      "metadata": {
        "id": "_ZLKsP_Z00dE",
        "colab_type": "code",
        "colab": {}
      },
      "source": [
        "#data preprocessing\n",
        "import pandas as pd\n",
        "#math operations\n",
        "import numpy as np\n",
        "\n",
        "\n",
        "%matplotlib inline\n",
        "import matplotlib.pyplot as plt\n",
        "import matplotlib.lines as mlines\n",
        "from mpl_toolkits.mplot3d import Axes3D\n",
        "import seaborn as sns\n",
        "from sklearn.model_selection import train_test_split, learning_curve\n",
        "from sklearn.metrics import average_precision_score\n",
        "from xgboost.sklearn import XGBClassifier\n",
        "from xgboost import plot_importance, to_graphviz\n",
        "\n",
        "import warnings\n",
        "warnings.filterwarnings(\"ignore\", category=DeprecationWarning)"
      ],
      "execution_count": 0,
      "outputs": []
    },
    {
      "cell_type": "markdown",
      "metadata": {
        "id": "SiTwelrSzk5r",
        "colab_type": "text"
      },
      "source": [
        ""
      ]
    },
    {
      "cell_type": "markdown",
      "metadata": {
        "id": "2cYxK_wCz0yX",
        "colab_type": "text"
      },
      "source": [
        "# 1: Import Data from Kaggle"
      ]
    },
    {
      "cell_type": "code",
      "metadata": {
        "id": "R_V9DJiOz3vn",
        "colab_type": "code",
        "colab": {
          "resources": {
            "http://localhost:8080/nbextensions/google.colab/files.js": {
              "data": "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",
              "ok": true,
              "headers": [
                [
                  "content-type",
                  "application/javascript"
                ]
              ],
              "status": 200,
              "status_text": ""
            }
          },
          "base_uri": "https://localhost:8080/",
          "height": 88
        },
        "outputId": "d76e3cd5-e790-4553-a4cd-406082356907"
      },
      "source": [
        "# Colab's file access feature\n",
        "from google.colab import files\n",
        "\n",
        "#retrieve uploaded file\n",
        "uploaded = files.upload()\n",
        "\n",
        "#print results\n",
        "for fn in uploaded.keys():\n",
        "  print('User uploaded file \"{name}\" with length {length} bytes'.format(\n",
        "      name=fn, length=len(uploaded[fn])))\n",
        "  \n",
        "# Then move kaggle.json into the folder where the API expects to find it.\n",
        "!mkdir -p ~/.kaggle/ && mv kaggle.json ~/.kaggle/ && chmod 600 ~/.kaggle/kaggle.json"
      ],
      "execution_count": 1,
      "outputs": [
        {
          "output_type": "display_data",
          "data": {
            "text/html": [
              "\n",
              "     <input type=\"file\" id=\"files-e33a875c-c5fb-480a-a7b7-07c1f63f4f56\" name=\"files[]\" multiple disabled />\n",
              "     <output id=\"result-e33a875c-c5fb-480a-a7b7-07c1f63f4f56\">\n",
              "      Upload widget is only available when the cell has been executed in the\n",
              "      current browser session. Please rerun this cell to enable.\n",
              "      </output>\n",
              "      <script src=\"/nbextensions/google.colab/files.js\"></script> "
            ],
            "text/plain": [
              "<IPython.core.display.HTML object>"
            ]
          },
          "metadata": {
            "tags": []
          }
        },
        {
          "output_type": "stream",
          "text": [
            "Saving kaggle.json to kaggle.json\n",
            "User uploaded file \"kaggle.json\" with length 63 bytes\n"
          ],
          "name": "stdout"
        }
      ]
    },
    {
      "cell_type": "code",
      "metadata": {
        "id": "EOWw15_80BDB",
        "colab_type": "code",
        "colab": {
          "base_uri": "https://localhost:8080/",
          "height": 68
        },
        "outputId": "c0417c39-5cc1-4068-a9dd-8e2a7f6b8683"
      },
      "source": [
        "!kaggle datasets download ntnu-testimon/paysim1 --unzip "
      ],
      "execution_count": 2,
      "outputs": [
        {
          "output_type": "stream",
          "text": [
            "Downloading paysim1.zip to /content\n",
            " 98% 178M/182M [00:01<00:00, 84.8MB/s]\n",
            "100% 182M/182M [00:01<00:00, 107MB/s] \n"
          ],
          "name": "stdout"
        }
      ]
    },
    {
      "cell_type": "markdown",
      "metadata": {
        "id": "EIxgjAA6TLS9",
        "colab_type": "text"
      },
      "source": [
        "* This dataset is presently only one of four on Kaggle with information on the **rising risk of digital financial fraud**, emphasizing the difficulty in obtaining such data. \n",
        "* The main technical challenge it poses to predicting fraud is the **highly imbalanced distribution between positive and negative classes** in 6 million rows of data. \n",
        "* Another stumbling block to the utility of this data stems from the **possible discrepancies in its description**. \n",
        "* The goal of this analysis is \n",
        " * to solve both these issues by a detailed data exploration and cleaning followed by \n",
        " * choosing a suitable machine-learning algorithm to deal with the skew. \n",
        "* I show that an optimal solution based on feature-engineering and e**xtreme gradient-boosted decision trees yields an enhanced predictive power of 0.997, as measured by the area under the precision-recall curve**. \n",
        "* Crucially, these results were obtained without artificial balancing of the data making this approach suitable to real-world applications."
      ]
    },
    {
      "cell_type": "markdown",
      "metadata": {
        "id": "gPwjZHVV0hh1",
        "colab_type": "text"
      },
      "source": [
        "# 2: Exploratory Data Analysis"
      ]
    },
    {
      "cell_type": "code",
      "metadata": {
        "id": "Nk0lpnh612jl",
        "colab_type": "code",
        "colab": {}
      },
      "source": [
        "pd.options.display.float_format = '${:,.2f}'.format"
      ],
      "execution_count": 0,
      "outputs": []
    },
    {
      "cell_type": "code",
      "metadata": {
        "id": "9KvofkVl0Plf",
        "colab_type": "code",
        "colab": {}
      },
      "source": [
        "df_full = pd.read_csv('PS_20174392719_1491204439457_log.csv')\n",
        "df_full = df_full.rename(columns={'oldbalanceOrg':'oldBalanceOrig', 'newbalanceOrig':'newBalanceOrig', \\\n",
        "                        'oldbalanceDest':'oldBalanceDest', 'newbalanceDest':'newBalanceDest'})"
      ],
      "execution_count": 0,
      "outputs": []
    },
    {
      "cell_type": "code",
      "metadata": {
        "id": "DIV0O6nOZJA3",
        "colab_type": "code",
        "colab": {
          "base_uri": "https://localhost:8080/",
          "height": 379
        },
        "outputId": "f9ff396a-d504-4aa6-d1b4-881454f61a90"
      },
      "source": [
        "df_full.sort_values(\"nameOrig\").head(10)"
      ],
      "execution_count": 82,
      "outputs": [
        {
          "output_type": "execute_result",
          "data": {
            "text/html": [
              "<div>\n",
              "<style scoped>\n",
              "    .dataframe tbody tr th:only-of-type {\n",
              "        vertical-align: middle;\n",
              "    }\n",
              "\n",
              "    .dataframe tbody tr th {\n",
              "        vertical-align: top;\n",
              "    }\n",
              "\n",
              "    .dataframe thead th {\n",
              "        text-align: right;\n",
              "    }\n",
              "</style>\n",
              "<table border=\"1\" class=\"dataframe\">\n",
              "  <thead>\n",
              "    <tr style=\"text-align: right;\">\n",
              "      <th></th>\n",
              "      <th>step</th>\n",
              "      <th>type</th>\n",
              "      <th>amount</th>\n",
              "      <th>nameOrig</th>\n",
              "      <th>oldBalanceOrig</th>\n",
              "      <th>newBalanceOrig</th>\n",
              "      <th>nameDest</th>\n",
              "      <th>oldBalanceDest</th>\n",
              "      <th>newBalanceDest</th>\n",
              "      <th>isFraud</th>\n",
              "      <th>isFlaggedFraud</th>\n",
              "    </tr>\n",
              "  </thead>\n",
              "  <tbody>\n",
              "    <tr>\n",
              "      <th>3196942</th>\n",
              "      <td>249</td>\n",
              "      <td>CASH_OUT</td>\n",
              "      <td>$244,486.46</td>\n",
              "      <td>C1000000639</td>\n",
              "      <td>$8,946.00</td>\n",
              "      <td>$0.00</td>\n",
              "      <td>C785826240</td>\n",
              "      <td>$526,950.37</td>\n",
              "      <td>$771,436.84</td>\n",
              "      <td>0</td>\n",
              "      <td>0</td>\n",
              "    </tr>\n",
              "    <tr>\n",
              "      <th>2798983</th>\n",
              "      <td>217</td>\n",
              "      <td>PAYMENT</td>\n",
              "      <td>$3,170.28</td>\n",
              "      <td>C1000001337</td>\n",
              "      <td>$58,089.00</td>\n",
              "      <td>$54,918.72</td>\n",
              "      <td>M216466820</td>\n",
              "      <td>$0.00</td>\n",
              "      <td>$0.00</td>\n",
              "      <td>0</td>\n",
              "      <td>0</td>\n",
              "    </tr>\n",
              "    <tr>\n",
              "      <th>1013585</th>\n",
              "      <td>46</td>\n",
              "      <td>PAYMENT</td>\n",
              "      <td>$8,424.74</td>\n",
              "      <td>C1000001725</td>\n",
              "      <td>$783.00</td>\n",
              "      <td>$0.00</td>\n",
              "      <td>M1974356374</td>\n",
              "      <td>$0.00</td>\n",
              "      <td>$0.00</td>\n",
              "      <td>0</td>\n",
              "      <td>0</td>\n",
              "    </tr>\n",
              "    <tr>\n",
              "      <th>2980283</th>\n",
              "      <td>231</td>\n",
              "      <td>CASH_IN</td>\n",
              "      <td>$261,877.19</td>\n",
              "      <td>C1000002591</td>\n",
              "      <td>$7,596.00</td>\n",
              "      <td>$269,473.19</td>\n",
              "      <td>C503690069</td>\n",
              "      <td>$1,126,627.70</td>\n",
              "      <td>$864,750.51</td>\n",
              "      <td>0</td>\n",
              "      <td>0</td>\n",
              "    </tr>\n",
              "    <tr>\n",
              "      <th>1920204</th>\n",
              "      <td>167</td>\n",
              "      <td>CASH_IN</td>\n",
              "      <td>$20,528.65</td>\n",
              "      <td>C1000003372</td>\n",
              "      <td>$2,302,074.12</td>\n",
              "      <td>$2,322,602.77</td>\n",
              "      <td>C1840417793</td>\n",
              "      <td>$82,696.17</td>\n",
              "      <td>$62,167.52</td>\n",
              "      <td>0</td>\n",
              "      <td>0</td>\n",
              "    </tr>\n",
              "    <tr>\n",
              "      <th>3374567</th>\n",
              "      <td>254</td>\n",
              "      <td>CASH_IN</td>\n",
              "      <td>$49,360.77</td>\n",
              "      <td>C1000003615</td>\n",
              "      <td>$1,472,658.31</td>\n",
              "      <td>$1,522,019.07</td>\n",
              "      <td>C996088808</td>\n",
              "      <td>$935,378.26</td>\n",
              "      <td>$886,017.50</td>\n",
              "      <td>0</td>\n",
              "      <td>0</td>\n",
              "    </tr>\n",
              "    <tr>\n",
              "      <th>4548211</th>\n",
              "      <td>327</td>\n",
              "      <td>CASH_OUT</td>\n",
              "      <td>$211,189.64</td>\n",
              "      <td>C1000004053</td>\n",
              "      <td>$0.00</td>\n",
              "      <td>$0.00</td>\n",
              "      <td>C1128041097</td>\n",
              "      <td>$2,609,840.34</td>\n",
              "      <td>$2,821,029.98</td>\n",
              "      <td>0</td>\n",
              "      <td>0</td>\n",
              "    </tr>\n",
              "    <tr>\n",
              "      <th>847860</th>\n",
              "      <td>41</td>\n",
              "      <td>CASH_OUT</td>\n",
              "      <td>$93,865.13</td>\n",
              "      <td>C1000004530</td>\n",
              "      <td>$351,422.72</td>\n",
              "      <td>$257,557.59</td>\n",
              "      <td>C1643839147</td>\n",
              "      <td>$178,083.14</td>\n",
              "      <td>$271,948.26</td>\n",
              "      <td>0</td>\n",
              "      <td>0</td>\n",
              "    </tr>\n",
              "    <tr>\n",
              "      <th>2825292</th>\n",
              "      <td>226</td>\n",
              "      <td>TRANSFER</td>\n",
              "      <td>$3,228,390.11</td>\n",
              "      <td>C1000005353</td>\n",
              "      <td>$24,996.00</td>\n",
              "      <td>$0.00</td>\n",
              "      <td>C292963054</td>\n",
              "      <td>$878,327.64</td>\n",
              "      <td>$4,106,717.75</td>\n",
              "      <td>0</td>\n",
              "      <td>0</td>\n",
              "    </tr>\n",
              "    <tr>\n",
              "      <th>2202461</th>\n",
              "      <td>185</td>\n",
              "      <td>CASH_OUT</td>\n",
              "      <td>$233,109.79</td>\n",
              "      <td>C1000005555</td>\n",
              "      <td>$20,623.00</td>\n",
              "      <td>$0.00</td>\n",
              "      <td>C1091802600</td>\n",
              "      <td>$0.00</td>\n",
              "      <td>$233,109.79</td>\n",
              "      <td>0</td>\n",
              "      <td>0</td>\n",
              "    </tr>\n",
              "  </tbody>\n",
              "</table>\n",
              "</div>"
            ],
            "text/plain": [
              "         step      type        amount  ... newBalanceDest  isFraud  isFlaggedFraud\n",
              "3196942   249  CASH_OUT   $244,486.46  ...    $771,436.84        0               0\n",
              "2798983   217   PAYMENT     $3,170.28  ...          $0.00        0               0\n",
              "1013585    46   PAYMENT     $8,424.74  ...          $0.00        0               0\n",
              "2980283   231   CASH_IN   $261,877.19  ...    $864,750.51        0               0\n",
              "1920204   167   CASH_IN    $20,528.65  ...     $62,167.52        0               0\n",
              "3374567   254   CASH_IN    $49,360.77  ...    $886,017.50        0               0\n",
              "4548211   327  CASH_OUT   $211,189.64  ...  $2,821,029.98        0               0\n",
              "847860     41  CASH_OUT    $93,865.13  ...    $271,948.26        0               0\n",
              "2825292   226  TRANSFER $3,228,390.11  ...  $4,106,717.75        0               0\n",
              "2202461   185  CASH_OUT   $233,109.79  ...    $233,109.79        0               0\n",
              "\n",
              "[10 rows x 11 columns]"
            ]
          },
          "metadata": {
            "tags": []
          },
          "execution_count": 82
        }
      ]
    },
    {
      "cell_type": "code",
      "metadata": {
        "id": "3TwcYZDx1VWM",
        "colab_type": "code",
        "colab": {
          "base_uri": "https://localhost:8080/",
          "height": 68
        },
        "outputId": "d40b3fb4-c49e-441f-d806-445253bcb09a"
      },
      "source": [
        "df_full.isFraud.value_counts() "
      ],
      "execution_count": 86,
      "outputs": [
        {
          "output_type": "execute_result",
          "data": {
            "text/plain": [
              "0    6354407\n",
              "1       8213\n",
              "Name: isFraud, dtype: int64"
            ]
          },
          "metadata": {
            "tags": []
          },
          "execution_count": 86
        }
      ]
    },
    {
      "cell_type": "code",
      "metadata": {
        "id": "M6FQfqIf1hmA",
        "colab_type": "code",
        "colab": {
          "base_uri": "https://localhost:8080/",
          "height": 68
        },
        "outputId": "0a3cd294-7b81-4a60-e842-c73e87331dad"
      },
      "source": [
        "df_full.isFlaggedFraud.value_counts() "
      ],
      "execution_count": 87,
      "outputs": [
        {
          "output_type": "execute_result",
          "data": {
            "text/plain": [
              "0    6362604\n",
              "1         16\n",
              "Name: isFlaggedFraud, dtype: int64"
            ]
          },
          "metadata": {
            "tags": []
          },
          "execution_count": 87
        }
      ]
    },
    {
      "cell_type": "markdown",
      "metadata": {
        "id": "86drdCIgUTi6",
        "colab_type": "text"
      },
      "source": [
        "Descriptive Analysis of the DataFrame"
      ]
    },
    {
      "cell_type": "code",
      "metadata": {
        "id": "T9bKaLMp1k3R",
        "colab_type": "code",
        "colab": {
          "base_uri": "https://localhost:8080/",
          "height": 297
        },
        "outputId": "245e70d2-83aa-410c-e98c-c3f921a50dd7"
      },
      "source": [
        "df_full.describe()"
      ],
      "execution_count": 88,
      "outputs": [
        {
          "output_type": "execute_result",
          "data": {
            "text/html": [
              "<div>\n",
              "<style scoped>\n",
              "    .dataframe tbody tr th:only-of-type {\n",
              "        vertical-align: middle;\n",
              "    }\n",
              "\n",
              "    .dataframe tbody tr th {\n",
              "        vertical-align: top;\n",
              "    }\n",
              "\n",
              "    .dataframe thead th {\n",
              "        text-align: right;\n",
              "    }\n",
              "</style>\n",
              "<table border=\"1\" class=\"dataframe\">\n",
              "  <thead>\n",
              "    <tr style=\"text-align: right;\">\n",
              "      <th></th>\n",
              "      <th>step</th>\n",
              "      <th>amount</th>\n",
              "      <th>oldBalanceOrig</th>\n",
              "      <th>newBalanceOrig</th>\n",
              "      <th>oldBalanceDest</th>\n",
              "      <th>newBalanceDest</th>\n",
              "      <th>isFraud</th>\n",
              "      <th>isFlaggedFraud</th>\n",
              "    </tr>\n",
              "  </thead>\n",
              "  <tbody>\n",
              "    <tr>\n",
              "      <th>count</th>\n",
              "      <td>$6,362,620.00</td>\n",
              "      <td>$6,362,620.00</td>\n",
              "      <td>$6,362,620.00</td>\n",
              "      <td>$6,362,620.00</td>\n",
              "      <td>$6,362,620.00</td>\n",
              "      <td>$6,362,620.00</td>\n",
              "      <td>$6,362,620.00</td>\n",
              "      <td>$6,362,620.00</td>\n",
              "    </tr>\n",
              "    <tr>\n",
              "      <th>mean</th>\n",
              "      <td>$243.40</td>\n",
              "      <td>$179,861.90</td>\n",
              "      <td>$833,883.10</td>\n",
              "      <td>$855,113.67</td>\n",
              "      <td>$1,100,701.67</td>\n",
              "      <td>$1,224,996.40</td>\n",
              "      <td>$0.00</td>\n",
              "      <td>$0.00</td>\n",
              "    </tr>\n",
              "    <tr>\n",
              "      <th>std</th>\n",
              "      <td>$142.33</td>\n",
              "      <td>$603,858.23</td>\n",
              "      <td>$2,888,242.67</td>\n",
              "      <td>$2,924,048.50</td>\n",
              "      <td>$3,399,180.11</td>\n",
              "      <td>$3,674,128.94</td>\n",
              "      <td>$0.04</td>\n",
              "      <td>$0.00</td>\n",
              "    </tr>\n",
              "    <tr>\n",
              "      <th>min</th>\n",
              "      <td>$1.00</td>\n",
              "      <td>$0.00</td>\n",
              "      <td>$0.00</td>\n",
              "      <td>$0.00</td>\n",
              "      <td>$0.00</td>\n",
              "      <td>$0.00</td>\n",
              "      <td>$0.00</td>\n",
              "      <td>$0.00</td>\n",
              "    </tr>\n",
              "    <tr>\n",
              "      <th>25%</th>\n",
              "      <td>$156.00</td>\n",
              "      <td>$13,389.57</td>\n",
              "      <td>$0.00</td>\n",
              "      <td>$0.00</td>\n",
              "      <td>$0.00</td>\n",
              "      <td>$0.00</td>\n",
              "      <td>$0.00</td>\n",
              "      <td>$0.00</td>\n",
              "    </tr>\n",
              "    <tr>\n",
              "      <th>50%</th>\n",
              "      <td>$239.00</td>\n",
              "      <td>$74,871.94</td>\n",
              "      <td>$14,208.00</td>\n",
              "      <td>$0.00</td>\n",
              "      <td>$132,705.66</td>\n",
              "      <td>$214,661.44</td>\n",
              "      <td>$0.00</td>\n",
              "      <td>$0.00</td>\n",
              "    </tr>\n",
              "    <tr>\n",
              "      <th>75%</th>\n",
              "      <td>$335.00</td>\n",
              "      <td>$208,721.48</td>\n",
              "      <td>$107,315.18</td>\n",
              "      <td>$144,258.41</td>\n",
              "      <td>$943,036.71</td>\n",
              "      <td>$1,111,909.25</td>\n",
              "      <td>$0.00</td>\n",
              "      <td>$0.00</td>\n",
              "    </tr>\n",
              "    <tr>\n",
              "      <th>max</th>\n",
              "      <td>$743.00</td>\n",
              "      <td>$92,445,516.64</td>\n",
              "      <td>$59,585,040.37</td>\n",
              "      <td>$49,585,040.37</td>\n",
              "      <td>$356,015,889.35</td>\n",
              "      <td>$356,179,278.92</td>\n",
              "      <td>$1.00</td>\n",
              "      <td>$1.00</td>\n",
              "    </tr>\n",
              "  </tbody>\n",
              "</table>\n",
              "</div>"
            ],
            "text/plain": [
              "               step         amount  ...       isFraud  isFlaggedFraud\n",
              "count $6,362,620.00  $6,362,620.00  ... $6,362,620.00   $6,362,620.00\n",
              "mean        $243.40    $179,861.90  ...         $0.00           $0.00\n",
              "std         $142.33    $603,858.23  ...         $0.04           $0.00\n",
              "min           $1.00          $0.00  ...         $0.00           $0.00\n",
              "25%         $156.00     $13,389.57  ...         $0.00           $0.00\n",
              "50%         $239.00     $74,871.94  ...         $0.00           $0.00\n",
              "75%         $335.00    $208,721.48  ...         $0.00           $0.00\n",
              "max         $743.00 $92,445,516.64  ...         $1.00           $1.00\n",
              "\n",
              "[8 rows x 8 columns]"
            ]
          },
          "metadata": {
            "tags": []
          },
          "execution_count": 88
        }
      ]
    },
    {
      "cell_type": "markdown",
      "metadata": {
        "id": "zJaMFLrdUXJO",
        "colab_type": "text"
      },
      "source": [
        "Test if there any missing values in DataFrame. It turns out there are no obvious missing values but, as we will see below, this does not rule out proxies by a numerical value like 0."
      ]
    },
    {
      "cell_type": "code",
      "metadata": {
        "id": "6OruGg5EUaR3",
        "colab_type": "code",
        "colab": {
          "base_uri": "https://localhost:8080/",
          "height": 34
        },
        "outputId": "4b492e7d-142a-4865-e7ac-5dd750be62dd"
      },
      "source": [
        "df_full.isnull().values.sum()"
      ],
      "execution_count": 89,
      "outputs": [
        {
          "output_type": "execute_result",
          "data": {
            "text/plain": [
              "0"
            ]
          },
          "metadata": {
            "tags": []
          },
          "execution_count": 89
        }
      ]
    },
    {
      "cell_type": "markdown",
      "metadata": {
        "id": "-mkFChIJUroh",
        "colab_type": "text"
      },
      "source": [
        "* In this section, we wrangle with the data exclusively using Dataframe methods. \n",
        "* This is the most succinct way to gain insights into the dataset. \n",
        "* More elaborate visualizations follow in subsequent sections."
      ]
    },
    {
      "cell_type": "markdown",
      "metadata": {
        "id": "Ypp8elYyU1Hr",
        "colab_type": "text"
      },
      "source": [
        "## 2.1 Which types of transactions are fraudulent?\n",
        "* We find that of the f**ive types of transactions**, *fraud occurs only in two of them* (see also kernels by Net, Philipp Schmidt and Ibe_Noriaki): \n",
        " * '**TRANSFER**' where money is sent to a customer / fraudster and \n",
        " *  '**CASH_OUT**' where money is sent to a merchant who pays the customer / fraudster in cash. \n",
        "* Remarkably, the number of fraudulent TRANSFERs almost equals the number of fraudulent CASH_OUTs (see the right half of the plot in section 5.1). \n",
        "* These observations appear, at first, to bear out the description provided on Kaggle for the modus operandi of fraudulent transactions in this dataset, namely, fraud is committed by first transferring out funds to another account which subsequently cashes it out. \n",
        "* We will return to this issue later in section 2.4\n"
      ]
    },
    {
      "cell_type": "code",
      "metadata": {
        "id": "kUbwezVaU7Xk",
        "colab_type": "code",
        "colab": {
          "base_uri": "https://localhost:8080/",
          "height": 68
        },
        "outputId": "e8dfb4e8-ac3e-470d-bc3d-ea6c5da7515d"
      },
      "source": [
        "print('The types of fraudulent transactions are {}'.format(\\\n",
        "list(df_full.loc[df_full.isFraud == 1].type.drop_duplicates().values))) # only 'CASH_OUT' \n",
        "                                                             # & 'TRANSFER'\n",
        "\n",
        "dfFraudTransfer = df_full.loc[(df_full.isFraud == 1) & (df_full.type == 'TRANSFER')]\n",
        "dfFraudCashout = df_full.loc[(df_full.isFraud == 1) & (df_full.type == 'CASH_OUT')]\n",
        "\n",
        "print ('The number of fraudulent TRANSFERs = {}'.\\\n",
        "       format(len(dfFraudTransfer))) # 4097\n",
        "print ('The number of fraudulent CASH_OUTs = {}'.\\\n",
        "       format(len(dfFraudCashout))) # 4116"
      ],
      "execution_count": 90,
      "outputs": [
        {
          "output_type": "stream",
          "text": [
            "The types of fraudulent transactions are ['TRANSFER', 'CASH_OUT']\n",
            "The number of fraudulent TRANSFERs = 4097\n",
            "The number of fraudulent CASH_OUTs = 4116\n"
          ],
          "name": "stdout"
        }
      ]
    },
    {
      "cell_type": "markdown",
      "metadata": {
        "id": "DiAuNo-MWaUQ",
        "colab_type": "text"
      },
      "source": [
        "## 2.2. What determines whether the feature isFlaggedFraud gets set or not?\n",
        "* It turns out that **the origin of isFlaggedFraud is unclear**, contrasting with the description provided. \n",
        " * The 16 entries (out of 6 million) where the isFlaggedFraud feature is set **do not seem to correlate with any explanatory variable**. \n",
        " * The data is described as isFlaggedFraud being set when an attempt **is made to 'TRANSFER' an 'amount' greater than 200,000**. \n",
        "   * In fact, as shown below, isFlaggedFraud can remain not set despite this condition being met."
      ]
    },
    {
      "cell_type": "code",
      "metadata": {
        "id": "YOlT_OLdWq4X",
        "colab_type": "code",
        "colab": {
          "base_uri": "https://localhost:8080/",
          "height": 119
        },
        "outputId": "f5e80ed8-b97a-428a-b5f4-a9bedd0bc23a"
      },
      "source": [
        "print('The type of transactions in which isFlaggedFraud is set: \\\n",
        "{}'.format(list(df_full.loc[df_full.isFlaggedFraud == 1].type.drop_duplicates()))) \n",
        "                                                            # only 'TRANSFER'\n",
        "\n",
        "dfTransfer = df_full.loc[df_full.type == 'TRANSFER']\n",
        "dfFlagged = df_full.loc[df_full.isFlaggedFraud == 1]\n",
        "dfNotFlagged = df_full.loc[df_full.isFlaggedFraud == 0]\n",
        "\n",
        "print('Min amount transacted when isFlaggedFraud is set= {}'\\\n",
        "                                  .format(dfFlagged.amount.min())) # 353874.22\n",
        "print('Max amount transacted when isFlaggedFraud is set= {}'\\\n",
        "                                  .format(dfFlagged.amount.max())) # 353874.22\n",
        "print('Mean amount transacted when isFlaggedFraud is set= {}'\\\n",
        "                                  .format(dfFlagged.amount.mean())) # 353874.22\n",
        "print('Max amount transacted in a TRANSFER where isFlaggedFraud is not set=\\\n",
        " {}'.format(dfTransfer.loc[dfTransfer.isFlaggedFraud == 0].amount.max())) # 92445516.64\n",
        "print('Mean amount transacted in a TRANSFER where isFlaggedFraud is not set=\\\n",
        " {}'.format(dfTransfer.loc[dfTransfer.isFlaggedFraud == 0].amount.mean())) # 92445516.64"
      ],
      "execution_count": 91,
      "outputs": [
        {
          "output_type": "stream",
          "text": [
            "The type of transactions in which isFlaggedFraud is set: ['TRANSFER']\n",
            "Min amount transacted when isFlaggedFraud is set= 353874.22\n",
            "Max amount transacted when isFlaggedFraud is set= 10000000.0\n",
            "Mean amount transacted when isFlaggedFraud is set= 4861597.730625\n",
            "Max amount transacted in a TRANSFER where isFlaggedFraud is not set= 92445516.64\n",
            "Mean amount transacted in a TRANSFER where isFlaggedFraud is not set= 910528.3831828752\n"
          ],
          "name": "stdout"
        }
      ]
    },
    {
      "cell_type": "markdown",
      "metadata": {
        "id": "MeTJ35M_Xet4",
        "colab_type": "text"
      },
      "source": [
        "* **Can oldBalanceDest and newBalanceDest determine isFlaggedFraud being set? **\n",
        " * The old is identical to the new balance in the origin and destination accounts, for every TRANSFER where isFlaggedFraud is set. \n",
        " * This is **presumably because the transaction is halted** [4]. \n",
        " * Interestingly, oldBalanceDest = 0 in every such transaction. \n",
        " * However, as shown below, since isFlaggedFraud can remain not set in TRANSFERS where oldBalanceDest and newBalanceDest can both be 0, these conditions do not determine the state of isFlaggedFraud."
      ]
    },
    {
      "cell_type": "code",
      "metadata": {
        "id": "O1bL2vkYYZKW",
        "colab_type": "code",
        "colab": {
          "base_uri": "https://localhost:8080/",
          "height": 85
        },
        "outputId": "64b3ef19-6f0a-47d3-9aab-afee62de2cc0"
      },
      "source": [
        "dfTransfer.columns"
      ],
      "execution_count": 93,
      "outputs": [
        {
          "output_type": "execute_result",
          "data": {
            "text/plain": [
              "Index(['step', 'type', 'amount', 'nameOrig', 'oldBalanceOrig',\n",
              "       'newBalanceOrig', 'nameDest', 'oldBalanceDest', 'newBalanceDest',\n",
              "       'isFraud', 'isFlaggedFraud'],\n",
              "      dtype='object')"
            ]
          },
          "metadata": {
            "tags": []
          },
          "execution_count": 93
        }
      ]
    },
    {
      "cell_type": "code",
      "metadata": {
        "id": "Zr3W25MPX0e_",
        "colab_type": "code",
        "colab": {
          "base_uri": "https://localhost:8080/",
          "height": 51
        },
        "outputId": "cf2ec55f-fb05-430f-f3db-a10b164ac541"
      },
      "source": [
        "print('\\nThe number of TRANSFERs where isFlaggedFraud = 0, yet oldBalanceDest = 0 and\\\n",
        " newBalanceDest = 0: {}'.\\\n",
        "      format(len(dfTransfer.loc[(dfTransfer.isFlaggedFraud == 0) & (dfTransfer.oldBalanceDest == 0) & (dfTransfer.newBalanceOrig == 0)])))"
      ],
      "execution_count": 94,
      "outputs": [
        {
          "output_type": "stream",
          "text": [
            "\n",
            "The number of TRANSFERs where isFlaggedFraud = 0, yet oldBalanceDest = 0 and newBalanceDest = 0: 60821\n"
          ],
          "name": "stdout"
        }
      ]
    },
    {
      "cell_type": "markdown",
      "metadata": {
        "id": "tXrLY6fvYyss",
        "colab_type": "text"
      },
      "source": [
        "* isFlaggedFraud being set cannot be thresholded on oldBalanceOrig since the corresponding range of values overlaps with that for TRANSFERs where isFlaggedFraud is not set (see below). \n",
        "* Note that we do not need to consider newBalanceOrig since it is updated only after the transaction, whereas isFlaggedFraud would be set before the transaction takes place."
      ]
    },
    {
      "cell_type": "code",
      "metadata": {
        "id": "DCAiNqHzYyhL",
        "colab_type": "code",
        "colab": {
          "base_uri": "https://localhost:8080/",
          "height": 51
        },
        "outputId": "b27d398d-e4af-414a-c86c-5ff152987f24"
      },
      "source": [
        "print('Min, Max of oldBalanceOrig for isFlaggedFraud = 1 TRANSFERs: {}'.\\\n",
        "format([round(dfFlagged.oldBalanceOrig.min()), round(dfFlagged.oldBalanceOrig.max())]))\n",
        "\n",
        "print('Min, Max of oldBalanceOrig for isFlaggedFraud = 0 TRANSFERs where \\\n",
        "oldBalanceOrig = \\\n",
        "newBalanceOrig: {}'.format(\\\n",
        "[dfTransfer.loc[(dfTransfer.isFlaggedFraud == 0) & (dfTransfer.oldBalanceOrig \\\n",
        "== dfTransfer.newBalanceOrig)].oldBalanceOrig.min(), \\\n",
        "round(dfTransfer.loc[(dfTransfer.isFlaggedFraud == 0) & (dfTransfer.oldBalanceOrig \\\n",
        "               == dfTransfer.newBalanceOrig)].oldBalanceOrig.max())]))"
      ],
      "execution_count": 96,
      "outputs": [
        {
          "output_type": "stream",
          "text": [
            "Min, Max of oldBalanceOrig for isFlaggedFraud = 1 TRANSFERs: [353874.0, 19585040.0]\n",
            "Min, Max of oldBalanceOrig for isFlaggedFraud = 0 TRANSFERs where oldBalanceOrig = newBalanceOrig: [0.0, 575668.0]\n"
          ],
          "name": "stdout"
        }
      ]
    },
    {
      "cell_type": "markdown",
      "metadata": {
        "id": "bO3-449gbhYd",
        "colab_type": "text"
      },
      "source": [
        "* Can isFlaggedFraud be set based on seeing a customer transacting more than once? \n",
        " * Note that duplicate customer names don't exist within transactions where isFlaggedFraud is set, but duplicate customer names exist within transactions where isFlaggedFraud is not set. \n",
        " * It turns out that originators of transactions that have isFlaggedFraud set have transacted only once. \n",
        " * Very few destination accounts of transactions that have isFlaggedFraud set have transacted more than once.\n",
        "\n",
        "\n",
        "\n"
      ]
    },
    {
      "cell_type": "code",
      "metadata": {
        "id": "IcOYGdQ7bowt",
        "colab_type": "code",
        "colab": {
          "base_uri": "https://localhost:8080/",
          "height": 68
        },
        "outputId": "2d6eeb74-db34-4cd0-81ca-b3dd435553a9"
      },
      "source": [
        "print('Have originators of transactions flagged as fraud transacted more than \\\n",
        "once? {}'\\\n",
        ".format((dfFlagged.nameOrig.isin(pd.concat([dfNotFlagged.nameOrig, \\\n",
        "                                    dfNotFlagged.nameDest]))).any())) # False\n",
        "\n",
        "print('Have destinations for transactions flagged as fraud initiated\\\n",
        " other transactions? \\\n",
        "{}'.format((dfFlagged.nameDest.isin(dfNotFlagged.nameOrig)).any())) # False\n",
        "\n",
        "# Since only 2 destination accounts of 16 that have 'isFlaggedFraud' set have been\n",
        "# destination accounts more than once,\n",
        "# clearly 'isFlaggedFraud' being set is independent of whether a \n",
        "# destination account has been used before or not\n",
        "\n",
        "print('How many destination accounts of transactions flagged as fraud have been \\\n",
        "destination accounts more than once?: {}'\\\n",
        ".format(sum(dfFlagged.nameDest.isin(dfNotFlagged.nameDest)))) # 2"
      ],
      "execution_count": 99,
      "outputs": [
        {
          "output_type": "stream",
          "text": [
            "Have originators of transactions flagged as fraud transacted more than once? False\n",
            "Have destinations for transactions flagged as fraud initiated other transactions? False\n",
            "How many destination accounts of transactions flagged as fraud have been destination accounts more than once?: 2\n"
          ],
          "name": "stdout"
        }
      ]
    },
    {
      "cell_type": "markdown",
      "metadata": {
        "id": "bU7jQ1chcer0",
        "colab_type": "text"
      },
      "source": [
        "* It can be easily seen that transactions with isFlaggedFraud set occur at all values of step, similar to the complementary set of transactions. \n",
        "* Thus isFlaggedFraud does not correlate with step either and is therefore seemingly unrelated to any explanatory variable or feature in the data\n",
        "\n",
        "**Conclusion:** \n",
        "* Although isFraud is always set when isFlaggedFraud is set, since isFlaggedFraud is set just 16 times in a seemingly meaningless way, **we can treat this feature as insignificant and discard it in the dataset without loosing information.**"
      ]
    },
    {
      "cell_type": "markdown",
      "metadata": {
        "id": "ES0jjGM2csOV",
        "colab_type": "text"
      },
      "source": [
        "## 2.3. Are expected merchant accounts accordingly labelled?"
      ]
    },
    {
      "cell_type": "markdown",
      "metadata": {
        "id": "Uz7eIdhqc_o1",
        "colab_type": "text"
      },
      "source": [
        "* It was stated [5] that CASH_IN involves being paid by a merchant (whose name is prefixed by 'M'). \n",
        " * However, as shown below, the present data does not have merchants making CASH_IN transactions to customers."
      ]
    },
    {
      "cell_type": "code",
      "metadata": {
        "id": "uK5DcwNMc0_b",
        "colab_type": "code",
        "colab": {
          "base_uri": "https://localhost:8080/",
          "height": 51
        },
        "outputId": "9918c0aa-35d9-48b3-9273-7109431dd2cf"
      },
      "source": [
        "print('\\nAre there any merchants among originator accounts for CASH_IN \\\n",
        "transactions? {}'.format(\\\n",
        "(df_full.loc[df_full.type == 'CASH_IN'].nameOrig.str.contains('M')).any())) # False"
      ],
      "execution_count": 100,
      "outputs": [
        {
          "output_type": "stream",
          "text": [
            "\n",
            "Are there any merchants among originator accounts for CASH_IN transactions? False\n"
          ],
          "name": "stdout"
        }
      ]
    },
    {
      "cell_type": "markdown",
      "metadata": {
        "id": "WcfwRMy9dW8D",
        "colab_type": "text"
      },
      "source": [
        "* Similarly, it was stated that CASH_OUT involves paying a merchant. However, for CASH_OUT transactions there are no merchants among the destination accounts."
      ]
    },
    {
      "cell_type": "code",
      "metadata": {
        "id": "d2yA68WYdbWh",
        "colab_type": "code",
        "colab": {
          "base_uri": "https://localhost:8080/",
          "height": 34
        },
        "outputId": "145f7411-213e-4bfb-9e2b-14ce3eb4ddcb"
      },
      "source": [
        "print('Are there any merchants among destination accounts for CASH_OUT \\\n",
        "transactions? {}'.format(\\\n",
        "(df_full.loc[df_full.type == 'CASH_OUT'].nameDest.str.contains('M')).any())) # False"
      ],
      "execution_count": 103,
      "outputs": [
        {
          "output_type": "stream",
          "text": [
            "Are there any merchants among destination accounts for CASH_OUT transactions? False\n"
          ],
          "name": "stdout"
        }
      ]
    },
    {
      "cell_type": "markdown",
      "metadata": {
        "id": "V32AVRwhdh9H",
        "colab_type": "text"
      },
      "source": [
        "* In fact, there are no merchants among any originator accounts. Merchants are only present in destination accounts for all PAYMENTS."
      ]
    },
    {
      "cell_type": "code",
      "metadata": {
        "id": "AIYEt1t8dl7Y",
        "colab_type": "code",
        "colab": {
          "base_uri": "https://localhost:8080/",
          "height": 51
        },
        "outputId": "2d8d0e9b-a8d2-4bec-88c5-d22dfb26bdb9"
      },
      "source": [
        "print('Are there merchants among any originator accounts? {}'.format(\\\n",
        "      df_full.nameOrig.str.contains('M').any())) # False\n",
        "\n",
        "print('Are there any transactions having merchants among destination accounts\\\n",
        " other than the PAYMENT type? {}'.format(\\\n",
        "(df_full.loc[df_full.nameDest.str.contains('M')].type != 'PAYMENT').any())) # False"
      ],
      "execution_count": 104,
      "outputs": [
        {
          "output_type": "stream",
          "text": [
            "Are there merchants among any originator accounts? False\n",
            "Are there any transactions having merchants among destination accounts other than the PAYMENT type? False\n"
          ],
          "name": "stdout"
        }
      ]
    },
    {
      "cell_type": "markdown",
      "metadata": {
        "id": "-NrjaY-xdvDv",
        "colab_type": "text"
      },
      "source": [
        "* Conclusion: Among the account labels nameOrig and nameDest, for all transactions, the merchant prefix of 'M' occurs in an unexpected way."
      ]
    },
    {
      "cell_type": "markdown",
      "metadata": {
        "id": "iM12aDiRd1z9",
        "colab_type": "text"
      },
      "source": [
        "## 2.4. Are there account labels common to fraudulent TRANSFERs and CASH_OUTs?\n",
        "* From the data description, the modus operandi for committing fraud involves first making a TRANSFER to a (fraudulent) account which in turn conducts a CASH_OUT. \n",
        "* CASH_OUT involves transacting with a merchant who pays out cash. \n",
        "* Thus, within this two-step process, **the fraudulent account would be both**, the destination in a TRANSFER and the originator in a CASH_OUT. \n",
        "* However, the data shows below that there are no such common accounts among fraudulent transactions. \n",
        "* Thus, the data is not imprinted with the expected modus-operandi."
      ]
    },
    {
      "cell_type": "code",
      "metadata": {
        "id": "dEfNnw-Qdxpa",
        "colab_type": "code",
        "colab": {
          "base_uri": "https://localhost:8080/",
          "height": 34
        },
        "outputId": "5d01f6ee-0ded-4592-850c-41dc992747c2"
      },
      "source": [
        "print('Within fraudulent transactions, are there destinations for TRANSFERS that are also originators for CASH_OUTs? {}'.format(\\\n",
        "(dfFraudTransfer.nameDest.isin(dfFraudCashout.nameOrig)).any())) # False\n",
        "dfNotFraud = df_full.loc[df_full.isFraud == 0]"
      ],
      "execution_count": 105,
      "outputs": [
        {
          "output_type": "stream",
          "text": [
            "Within fraudulent transactions, are there destinations for TRANSFERS that are also originators for CASH_OUTs? False\n"
          ],
          "name": "stdout"
        }
      ]
    },
    {
      "cell_type": "markdown",
      "metadata": {
        "id": "iYTxR9oveccv",
        "colab_type": "text"
      },
      "source": [
        "* Could destination accounts for fraudulent TRANSFERs originate CASHOUTs that are not detected and are labeled as genuine? It turns out there are 3 such accounts."
      ]
    },
    {
      "cell_type": "code",
      "metadata": {
        "id": "HuzVKQVFeiJn",
        "colab_type": "code",
        "colab": {
          "base_uri": "https://localhost:8080/",
          "height": 170
        },
        "outputId": "ae51012d-0bcc-4e98-a4e0-6a9cda846404"
      },
      "source": [
        "print('\\nFraudulent TRANSFERs whose destination accounts are originators of \\\n",
        "genuine CASH_OUTs: \\n\\n{}'.format(dfFraudTransfer.loc[dfFraudTransfer.nameDest.\\\n",
        "isin(dfNotFraud.loc[dfNotFraud.type == 'CASH_OUT'].nameOrig.drop_duplicates())]))"
      ],
      "execution_count": 106,
      "outputs": [
        {
          "output_type": "stream",
          "text": [
            "\n",
            "Fraudulent TRANSFERs whose destination accounts are originators of genuine CASH_OUTs: \n",
            "\n",
            "         step      type        amount  ... newBalanceDest  isFraud  isFlaggedFraud\n",
            "1030443    65  TRANSFER $1,282,971.57  ...          $0.00        1               0\n",
            "6039814   486  TRANSFER   $214,793.32  ...          $0.00        1               0\n",
            "6362556   738  TRANSFER   $814,689.88  ...          $0.00        1               0\n",
            "\n",
            "[3 rows x 11 columns]\n"
          ],
          "name": "stdout"
        }
      ]
    },
    {
      "cell_type": "code",
      "metadata": {
        "id": "h_FqzTvUevbu",
        "colab_type": "code",
        "colab": {
          "base_uri": "https://localhost:8080/",
          "height": 162
        },
        "outputId": "27cca9ce-b489-4ea2-ab93-19181e3a70dc"
      },
      "source": [
        "dfFraudTransfer.loc[dfFraudTransfer.nameDest.isin(dfNotFraud.loc[dfNotFraud.type == 'CASH_OUT'].nameOrig.drop_duplicates())]"
      ],
      "execution_count": 109,
      "outputs": [
        {
          "output_type": "execute_result",
          "data": {
            "text/html": [
              "<div>\n",
              "<style scoped>\n",
              "    .dataframe tbody tr th:only-of-type {\n",
              "        vertical-align: middle;\n",
              "    }\n",
              "\n",
              "    .dataframe tbody tr th {\n",
              "        vertical-align: top;\n",
              "    }\n",
              "\n",
              "    .dataframe thead th {\n",
              "        text-align: right;\n",
              "    }\n",
              "</style>\n",
              "<table border=\"1\" class=\"dataframe\">\n",
              "  <thead>\n",
              "    <tr style=\"text-align: right;\">\n",
              "      <th></th>\n",
              "      <th>step</th>\n",
              "      <th>type</th>\n",
              "      <th>amount</th>\n",
              "      <th>nameOrig</th>\n",
              "      <th>oldBalanceOrig</th>\n",
              "      <th>newBalanceOrig</th>\n",
              "      <th>nameDest</th>\n",
              "      <th>oldBalanceDest</th>\n",
              "      <th>newBalanceDest</th>\n",
              "      <th>isFraud</th>\n",
              "      <th>isFlaggedFraud</th>\n",
              "    </tr>\n",
              "  </thead>\n",
              "  <tbody>\n",
              "    <tr>\n",
              "      <th>1030443</th>\n",
              "      <td>65</td>\n",
              "      <td>TRANSFER</td>\n",
              "      <td>$1,282,971.57</td>\n",
              "      <td>C1175896731</td>\n",
              "      <td>$1,282,971.57</td>\n",
              "      <td>$0.00</td>\n",
              "      <td>C1714931087</td>\n",
              "      <td>$0.00</td>\n",
              "      <td>$0.00</td>\n",
              "      <td>1</td>\n",
              "      <td>0</td>\n",
              "    </tr>\n",
              "    <tr>\n",
              "      <th>6039814</th>\n",
              "      <td>486</td>\n",
              "      <td>TRANSFER</td>\n",
              "      <td>$214,793.32</td>\n",
              "      <td>C2140495649</td>\n",
              "      <td>$214,793.32</td>\n",
              "      <td>$0.00</td>\n",
              "      <td>C423543548</td>\n",
              "      <td>$0.00</td>\n",
              "      <td>$0.00</td>\n",
              "      <td>1</td>\n",
              "      <td>0</td>\n",
              "    </tr>\n",
              "    <tr>\n",
              "      <th>6362556</th>\n",
              "      <td>738</td>\n",
              "      <td>TRANSFER</td>\n",
              "      <td>$814,689.88</td>\n",
              "      <td>C2029041842</td>\n",
              "      <td>$814,689.88</td>\n",
              "      <td>$0.00</td>\n",
              "      <td>C1023330867</td>\n",
              "      <td>$0.00</td>\n",
              "      <td>$0.00</td>\n",
              "      <td>1</td>\n",
              "      <td>0</td>\n",
              "    </tr>\n",
              "  </tbody>\n",
              "</table>\n",
              "</div>"
            ],
            "text/plain": [
              "         step      type        amount  ... newBalanceDest  isFraud  isFlaggedFraud\n",
              "1030443    65  TRANSFER $1,282,971.57  ...          $0.00        1               0\n",
              "6039814   486  TRANSFER   $214,793.32  ...          $0.00        1               0\n",
              "6362556   738  TRANSFER   $814,689.88  ...          $0.00        1               0\n",
              "\n",
              "[3 rows x 11 columns]"
            ]
          },
          "metadata": {
            "tags": []
          },
          "execution_count": 109
        }
      ]
    },
    {
      "cell_type": "markdown",
      "metadata": {
        "id": "f-wllJvofCfd",
        "colab_type": "text"
      },
      "source": [
        "* However, 2 out of 3 of these accounts first make a genuine CASH_OUT and only later (as evidenced by the time step) receive a fraudulent TRANSFER. \n",
        "**Thus, fraudulent transactions are not indicated by the nameOrig and nameDest features.**\n",
        "\n",
        "**Conclusion: **\n",
        "* Noting from section 2.3 above that the nameOrig and nameDest features neither encode merchant accounts in the expected way, below, we drop these features from the data since they are meaningless."
      ]
    },
    {
      "cell_type": "markdown",
      "metadata": {
        "id": "QYPfjncMfb5O",
        "colab_type": "text"
      },
      "source": [
        "# 3: Data cleaning"
      ]
    },
    {
      "cell_type": "markdown",
      "metadata": {
        "id": "bJliABBvfrXf",
        "colab_type": "text"
      },
      "source": [
        "* From the exploratory data analysis (EDA) of section 2, we know that **fraud only occurs in 'TRANSFER's and 'CASH_OUT's**. \n",
        "So we assemble only the corresponding data in X for analysis."
      ]
    },
    {
      "cell_type": "code",
      "metadata": {
        "id": "0RWK5OVufy6P",
        "colab_type": "code",
        "colab": {}
      },
      "source": [
        "X = df_full.loc[(df.type == 'TRANSFER') | (df.type == 'CASH_OUT')]\n",
        "\n",
        "randomState = 5\n",
        "np.random.seed(randomState)\n",
        "\n",
        "#X = X.loc[np.random.choice(X.index, 100000, replace = False)]\n",
        "\n",
        "Y = X['isFraud']\n",
        "del X['isFraud']\n",
        "\n",
        "# Eliminate columns shown to be irrelevant for analysis in the EDA\n",
        "X = X.drop(['nameOrig', 'nameDest', 'isFlaggedFraud'], axis = 1)\n",
        "\n",
        "# Binary-encoding of labelled data in 'type'\n",
        "X.loc[X.type == 'TRANSFER', 'type'] = 0\n",
        "X.loc[X.type == 'CASH_OUT', 'type'] = 1\n",
        "X.type = X.type.astype(int) # convert dtype('O') to dtype(int)"
      ],
      "execution_count": 0,
      "outputs": []
    },
    {
      "cell_type": "code",
      "metadata": {
        "id": "KEzrCC9uf8Gw",
        "colab_type": "code",
        "colab": {
          "base_uri": "https://localhost:8080/",
          "height": 359
        },
        "outputId": "cb048b91-2714-4983-924a-5a2feba1df0b"
      },
      "source": [
        "X.head(10)"
      ],
      "execution_count": 114,
      "outputs": [
        {
          "output_type": "execute_result",
          "data": {
            "text/html": [
              "<div>\n",
              "<style scoped>\n",
              "    .dataframe tbody tr th:only-of-type {\n",
              "        vertical-align: middle;\n",
              "    }\n",
              "\n",
              "    .dataframe tbody tr th {\n",
              "        vertical-align: top;\n",
              "    }\n",
              "\n",
              "    .dataframe thead th {\n",
              "        text-align: right;\n",
              "    }\n",
              "</style>\n",
              "<table border=\"1\" class=\"dataframe\">\n",
              "  <thead>\n",
              "    <tr style=\"text-align: right;\">\n",
              "      <th></th>\n",
              "      <th>step</th>\n",
              "      <th>type</th>\n",
              "      <th>amount</th>\n",
              "      <th>oldBalanceOrig</th>\n",
              "      <th>newBalanceOrig</th>\n",
              "      <th>oldBalanceDest</th>\n",
              "      <th>newBalanceDest</th>\n",
              "    </tr>\n",
              "  </thead>\n",
              "  <tbody>\n",
              "    <tr>\n",
              "      <th>2</th>\n",
              "      <td>1</td>\n",
              "      <td>0</td>\n",
              "      <td>$181.00</td>\n",
              "      <td>$181.00</td>\n",
              "      <td>$0.00</td>\n",
              "      <td>$0.00</td>\n",
              "      <td>$0.00</td>\n",
              "    </tr>\n",
              "    <tr>\n",
              "      <th>3</th>\n",
              "      <td>1</td>\n",
              "      <td>1</td>\n",
              "      <td>$181.00</td>\n",
              "      <td>$181.00</td>\n",
              "      <td>$0.00</td>\n",
              "      <td>$21,182.00</td>\n",
              "      <td>$0.00</td>\n",
              "    </tr>\n",
              "    <tr>\n",
              "      <th>15</th>\n",
              "      <td>1</td>\n",
              "      <td>1</td>\n",
              "      <td>$229,133.94</td>\n",
              "      <td>$15,325.00</td>\n",
              "      <td>$0.00</td>\n",
              "      <td>$5,083.00</td>\n",
              "      <td>$51,513.44</td>\n",
              "    </tr>\n",
              "    <tr>\n",
              "      <th>19</th>\n",
              "      <td>1</td>\n",
              "      <td>0</td>\n",
              "      <td>$215,310.30</td>\n",
              "      <td>$705.00</td>\n",
              "      <td>$0.00</td>\n",
              "      <td>$22,425.00</td>\n",
              "      <td>$0.00</td>\n",
              "    </tr>\n",
              "    <tr>\n",
              "      <th>24</th>\n",
              "      <td>1</td>\n",
              "      <td>0</td>\n",
              "      <td>$311,685.89</td>\n",
              "      <td>$10,835.00</td>\n",
              "      <td>$0.00</td>\n",
              "      <td>$6,267.00</td>\n",
              "      <td>$2,719,172.89</td>\n",
              "    </tr>\n",
              "    <tr>\n",
              "      <th>42</th>\n",
              "      <td>1</td>\n",
              "      <td>1</td>\n",
              "      <td>$110,414.71</td>\n",
              "      <td>$26,845.41</td>\n",
              "      <td>$0.00</td>\n",
              "      <td>$288,800.00</td>\n",
              "      <td>$2,415.16</td>\n",
              "    </tr>\n",
              "    <tr>\n",
              "      <th>47</th>\n",
              "      <td>1</td>\n",
              "      <td>1</td>\n",
              "      <td>$56,953.90</td>\n",
              "      <td>$1,942.02</td>\n",
              "      <td>$0.00</td>\n",
              "      <td>$70,253.00</td>\n",
              "      <td>$64,106.18</td>\n",
              "    </tr>\n",
              "    <tr>\n",
              "      <th>48</th>\n",
              "      <td>1</td>\n",
              "      <td>1</td>\n",
              "      <td>$5,346.89</td>\n",
              "      <td>$0.00</td>\n",
              "      <td>$0.00</td>\n",
              "      <td>$652,637.00</td>\n",
              "      <td>$6,453,430.91</td>\n",
              "    </tr>\n",
              "    <tr>\n",
              "      <th>51</th>\n",
              "      <td>1</td>\n",
              "      <td>1</td>\n",
              "      <td>$23,261.30</td>\n",
              "      <td>$20,411.53</td>\n",
              "      <td>$0.00</td>\n",
              "      <td>$25,742.00</td>\n",
              "      <td>$0.00</td>\n",
              "    </tr>\n",
              "    <tr>\n",
              "      <th>58</th>\n",
              "      <td>1</td>\n",
              "      <td>0</td>\n",
              "      <td>$62,610.80</td>\n",
              "      <td>$79,114.00</td>\n",
              "      <td>$16,503.20</td>\n",
              "      <td>$517.00</td>\n",
              "      <td>$8,383.29</td>\n",
              "    </tr>\n",
              "  </tbody>\n",
              "</table>\n",
              "</div>"
            ],
            "text/plain": [
              "    step  type      amount  ...  newBalanceOrig  oldBalanceDest  newBalanceDest\n",
              "2      1     0     $181.00  ...           $0.00           $0.00           $0.00\n",
              "3      1     1     $181.00  ...           $0.00      $21,182.00           $0.00\n",
              "15     1     1 $229,133.94  ...           $0.00       $5,083.00      $51,513.44\n",
              "19     1     0 $215,310.30  ...           $0.00      $22,425.00           $0.00\n",
              "24     1     0 $311,685.89  ...           $0.00       $6,267.00   $2,719,172.89\n",
              "42     1     1 $110,414.71  ...           $0.00     $288,800.00       $2,415.16\n",
              "47     1     1  $56,953.90  ...           $0.00      $70,253.00      $64,106.18\n",
              "48     1     1   $5,346.89  ...           $0.00     $652,637.00   $6,453,430.91\n",
              "51     1     1  $23,261.30  ...           $0.00      $25,742.00           $0.00\n",
              "58     1     0  $62,610.80  ...      $16,503.20         $517.00       $8,383.29\n",
              "\n",
              "[10 rows x 7 columns]"
            ]
          },
          "metadata": {
            "tags": []
          },
          "execution_count": 114
        }
      ]
    },
    {
      "cell_type": "code",
      "metadata": {
        "id": "3XZoM0WegC3x",
        "colab_type": "code",
        "colab": {
          "base_uri": "https://localhost:8080/",
          "height": 204
        },
        "outputId": "1b23599f-1256-47b5-ab8c-8324fc570d9f"
      },
      "source": [
        "Y.head(10)"
      ],
      "execution_count": 113,
      "outputs": [
        {
          "output_type": "execute_result",
          "data": {
            "text/plain": [
              "2     1\n",
              "3     1\n",
              "15    0\n",
              "19    0\n",
              "24    0\n",
              "42    0\n",
              "47    0\n",
              "48    0\n",
              "51    0\n",
              "58    0\n",
              "Name: isFraud, dtype: int64"
            ]
          },
          "metadata": {
            "tags": []
          },
          "execution_count": 113
        }
      ]
    },
    {
      "cell_type": "markdown",
      "metadata": {
        "id": "H4UVVSgggN0P",
        "colab_type": "text"
      },
      "source": [
        "## 3.1. Imputation of Latent Missing Values\n",
        "* The data has several transactions with zero balances in the destination account both before and after a non-zero amount is transacted. \n",
        "* The fraction of such transactions, where zero likely **denotes a missing value, is much larger in fraudulent (50%) compared to genuine transactions (0.06%).**"
      ]
    },
    {
      "cell_type": "code",
      "metadata": {
        "id": "8AIL_ki9ghaD",
        "colab_type": "code",
        "colab": {
          "base_uri": "https://localhost:8080/",
          "height": 71
        },
        "outputId": "2785ffee-80ac-4b91-c29f-a324135e19d2"
      },
      "source": [
        "Xfraud = X.loc[Y == 1]\n",
        "XnonFraud = X.loc[Y == 0]\n",
        "print('The fraction of fraudulent transactions with \\'oldBalanceDest\\' = \\\n",
        "\\'newBalanceDest\\' = 0 although the transacted \\'amount\\' is non-zero is: {}'.\\\n",
        "format(len(Xfraud.loc[(Xfraud.oldBalanceDest == 0) & \\\n",
        "(Xfraud.newBalanceDest == 0) & (Xfraud.amount)]) / (1.0 * len(Xfraud))))\n",
        "\n",
        "print('The fraction of genuine transactions with \\'oldBalanceDest\\' = \\\n",
        "newBalanceDest\\' = 0 although the transacted \\'amount\\' is non-zero is: {}'.\\\n",
        "format(len(XnonFraud.loc[(XnonFraud.oldBalanceDest == 0) & \\\n",
        "(XnonFraud.newBalanceDest == 0) & (XnonFraud.amount)]) / (1.0 * len(XnonFraud))))"
      ],
      "execution_count": 116,
      "outputs": [
        {
          "output_type": "stream",
          "text": [
            "The fraction of fraudulent transactions with 'oldBalanceDest' = 'newBalanceDest' = 0 although the transacted 'amount' is non-zero is: 0.4955558261293072\n",
            "The fraction of genuine transactions with 'oldBalanceDest' = newBalanceDest' = 0 although the transacted 'amount' is non-zero is: 0.0006176245277308345\n"
          ],
          "name": "stdout"
        }
      ]
    },
    {
      "cell_type": "code",
      "metadata": {
        "id": "kHhM9id7gxPQ",
        "colab_type": "code",
        "colab": {
          "base_uri": "https://localhost:8080/",
          "height": 359
        },
        "outputId": "75d9c0dc-ef59-4de4-c07e-33da3a50fdf5"
      },
      "source": [
        "XnonFraud.head(10)"
      ],
      "execution_count": 118,
      "outputs": [
        {
          "output_type": "execute_result",
          "data": {
            "text/html": [
              "<div>\n",
              "<style scoped>\n",
              "    .dataframe tbody tr th:only-of-type {\n",
              "        vertical-align: middle;\n",
              "    }\n",
              "\n",
              "    .dataframe tbody tr th {\n",
              "        vertical-align: top;\n",
              "    }\n",
              "\n",
              "    .dataframe thead th {\n",
              "        text-align: right;\n",
              "    }\n",
              "</style>\n",
              "<table border=\"1\" class=\"dataframe\">\n",
              "  <thead>\n",
              "    <tr style=\"text-align: right;\">\n",
              "      <th></th>\n",
              "      <th>step</th>\n",
              "      <th>type</th>\n",
              "      <th>amount</th>\n",
              "      <th>oldBalanceOrig</th>\n",
              "      <th>newBalanceOrig</th>\n",
              "      <th>oldBalanceDest</th>\n",
              "      <th>newBalanceDest</th>\n",
              "    </tr>\n",
              "  </thead>\n",
              "  <tbody>\n",
              "    <tr>\n",
              "      <th>15</th>\n",
              "      <td>1</td>\n",
              "      <td>1</td>\n",
              "      <td>$229,133.94</td>\n",
              "      <td>$15,325.00</td>\n",
              "      <td>$0.00</td>\n",
              "      <td>$5,083.00</td>\n",
              "      <td>$51,513.44</td>\n",
              "    </tr>\n",
              "    <tr>\n",
              "      <th>19</th>\n",
              "      <td>1</td>\n",
              "      <td>0</td>\n",
              "      <td>$215,310.30</td>\n",
              "      <td>$705.00</td>\n",
              "      <td>$0.00</td>\n",
              "      <td>$22,425.00</td>\n",
              "      <td>$0.00</td>\n",
              "    </tr>\n",
              "    <tr>\n",
              "      <th>24</th>\n",
              "      <td>1</td>\n",
              "      <td>0</td>\n",
              "      <td>$311,685.89</td>\n",
              "      <td>$10,835.00</td>\n",
              "      <td>$0.00</td>\n",
              "      <td>$6,267.00</td>\n",
              "      <td>$2,719,172.89</td>\n",
              "    </tr>\n",
              "    <tr>\n",
              "      <th>42</th>\n",
              "      <td>1</td>\n",
              "      <td>1</td>\n",
              "      <td>$110,414.71</td>\n",
              "      <td>$26,845.41</td>\n",
              "      <td>$0.00</td>\n",
              "      <td>$288,800.00</td>\n",
              "      <td>$2,415.16</td>\n",
              "    </tr>\n",
              "    <tr>\n",
              "      <th>47</th>\n",
              "      <td>1</td>\n",
              "      <td>1</td>\n",
              "      <td>$56,953.90</td>\n",
              "      <td>$1,942.02</td>\n",
              "      <td>$0.00</td>\n",
              "      <td>$70,253.00</td>\n",
              "      <td>$64,106.18</td>\n",
              "    </tr>\n",
              "    <tr>\n",
              "      <th>48</th>\n",
              "      <td>1</td>\n",
              "      <td>1</td>\n",
              "      <td>$5,346.89</td>\n",
              "      <td>$0.00</td>\n",
              "      <td>$0.00</td>\n",
              "      <td>$652,637.00</td>\n",
              "      <td>$6,453,430.91</td>\n",
              "    </tr>\n",
              "    <tr>\n",
              "      <th>51</th>\n",
              "      <td>1</td>\n",
              "      <td>1</td>\n",
              "      <td>$23,261.30</td>\n",
              "      <td>$20,411.53</td>\n",
              "      <td>$0.00</td>\n",
              "      <td>$25,742.00</td>\n",
              "      <td>$0.00</td>\n",
              "    </tr>\n",
              "    <tr>\n",
              "      <th>58</th>\n",
              "      <td>1</td>\n",
              "      <td>0</td>\n",
              "      <td>$62,610.80</td>\n",
              "      <td>$79,114.00</td>\n",
              "      <td>$16,503.20</td>\n",
              "      <td>$517.00</td>\n",
              "      <td>$8,383.29</td>\n",
              "    </tr>\n",
              "    <tr>\n",
              "      <th>60</th>\n",
              "      <td>1</td>\n",
              "      <td>1</td>\n",
              "      <td>$82,940.31</td>\n",
              "      <td>$3,017.87</td>\n",
              "      <td>$0.00</td>\n",
              "      <td>$132,372.00</td>\n",
              "      <td>$49,864.36</td>\n",
              "    </tr>\n",
              "    <tr>\n",
              "      <th>70</th>\n",
              "      <td>1</td>\n",
              "      <td>1</td>\n",
              "      <td>$47,458.86</td>\n",
              "      <td>$209,534.84</td>\n",
              "      <td>$162,075.98</td>\n",
              "      <td>$52,120.00</td>\n",
              "      <td>$0.00</td>\n",
              "    </tr>\n",
              "  </tbody>\n",
              "</table>\n",
              "</div>"
            ],
            "text/plain": [
              "    step  type      amount  ...  newBalanceOrig  oldBalanceDest  newBalanceDest\n",
              "15     1     1 $229,133.94  ...           $0.00       $5,083.00      $51,513.44\n",
              "19     1     0 $215,310.30  ...           $0.00      $22,425.00           $0.00\n",
              "24     1     0 $311,685.89  ...           $0.00       $6,267.00   $2,719,172.89\n",
              "42     1     1 $110,414.71  ...           $0.00     $288,800.00       $2,415.16\n",
              "47     1     1  $56,953.90  ...           $0.00      $70,253.00      $64,106.18\n",
              "48     1     1   $5,346.89  ...           $0.00     $652,637.00   $6,453,430.91\n",
              "51     1     1  $23,261.30  ...           $0.00      $25,742.00           $0.00\n",
              "58     1     0  $62,610.80  ...      $16,503.20         $517.00       $8,383.29\n",
              "60     1     1  $82,940.31  ...           $0.00     $132,372.00      $49,864.36\n",
              "70     1     1  $47,458.86  ...     $162,075.98      $52,120.00           $0.00\n",
              "\n",
              "[10 rows x 7 columns]"
            ]
          },
          "metadata": {
            "tags": []
          },
          "execution_count": 118
        }
      ]
    },
    {
      "cell_type": "code",
      "metadata": {
        "id": "pMbHMixSgsYk",
        "colab_type": "code",
        "colab": {
          "base_uri": "https://localhost:8080/",
          "height": 359
        },
        "outputId": "ca644c64-3b43-40e6-8949-af7651072268"
      },
      "source": [
        "Xfraud.head(10)"
      ],
      "execution_count": 117,
      "outputs": [
        {
          "output_type": "execute_result",
          "data": {
            "text/html": [
              "<div>\n",
              "<style scoped>\n",
              "    .dataframe tbody tr th:only-of-type {\n",
              "        vertical-align: middle;\n",
              "    }\n",
              "\n",
              "    .dataframe tbody tr th {\n",
              "        vertical-align: top;\n",
              "    }\n",
              "\n",
              "    .dataframe thead th {\n",
              "        text-align: right;\n",
              "    }\n",
              "</style>\n",
              "<table border=\"1\" class=\"dataframe\">\n",
              "  <thead>\n",
              "    <tr style=\"text-align: right;\">\n",
              "      <th></th>\n",
              "      <th>step</th>\n",
              "      <th>type</th>\n",
              "      <th>amount</th>\n",
              "      <th>oldBalanceOrig</th>\n",
              "      <th>newBalanceOrig</th>\n",
              "      <th>oldBalanceDest</th>\n",
              "      <th>newBalanceDest</th>\n",
              "    </tr>\n",
              "  </thead>\n",
              "  <tbody>\n",
              "    <tr>\n",
              "      <th>2</th>\n",
              "      <td>1</td>\n",
              "      <td>0</td>\n",
              "      <td>$181.00</td>\n",
              "      <td>$181.00</td>\n",
              "      <td>$0.00</td>\n",
              "      <td>$0.00</td>\n",
              "      <td>$0.00</td>\n",
              "    </tr>\n",
              "    <tr>\n",
              "      <th>3</th>\n",
              "      <td>1</td>\n",
              "      <td>1</td>\n",
              "      <td>$181.00</td>\n",
              "      <td>$181.00</td>\n",
              "      <td>$0.00</td>\n",
              "      <td>$21,182.00</td>\n",
              "      <td>$0.00</td>\n",
              "    </tr>\n",
              "    <tr>\n",
              "      <th>251</th>\n",
              "      <td>1</td>\n",
              "      <td>0</td>\n",
              "      <td>$2,806.00</td>\n",
              "      <td>$2,806.00</td>\n",
              "      <td>$0.00</td>\n",
              "      <td>$0.00</td>\n",
              "      <td>$0.00</td>\n",
              "    </tr>\n",
              "    <tr>\n",
              "      <th>252</th>\n",
              "      <td>1</td>\n",
              "      <td>1</td>\n",
              "      <td>$2,806.00</td>\n",
              "      <td>$2,806.00</td>\n",
              "      <td>$0.00</td>\n",
              "      <td>$26,202.00</td>\n",
              "      <td>$0.00</td>\n",
              "    </tr>\n",
              "    <tr>\n",
              "      <th>680</th>\n",
              "      <td>1</td>\n",
              "      <td>0</td>\n",
              "      <td>$20,128.00</td>\n",
              "      <td>$20,128.00</td>\n",
              "      <td>$0.00</td>\n",
              "      <td>$0.00</td>\n",
              "      <td>$0.00</td>\n",
              "    </tr>\n",
              "    <tr>\n",
              "      <th>681</th>\n",
              "      <td>1</td>\n",
              "      <td>1</td>\n",
              "      <td>$20,128.00</td>\n",
              "      <td>$20,128.00</td>\n",
              "      <td>$0.00</td>\n",
              "      <td>$6,268.00</td>\n",
              "      <td>$12,145.85</td>\n",
              "    </tr>\n",
              "    <tr>\n",
              "      <th>724</th>\n",
              "      <td>1</td>\n",
              "      <td>1</td>\n",
              "      <td>$416,001.33</td>\n",
              "      <td>$0.00</td>\n",
              "      <td>$0.00</td>\n",
              "      <td>$102.00</td>\n",
              "      <td>$9,291,619.62</td>\n",
              "    </tr>\n",
              "    <tr>\n",
              "      <th>969</th>\n",
              "      <td>1</td>\n",
              "      <td>0</td>\n",
              "      <td>$1,277,212.77</td>\n",
              "      <td>$1,277,212.77</td>\n",
              "      <td>$0.00</td>\n",
              "      <td>$0.00</td>\n",
              "      <td>$0.00</td>\n",
              "    </tr>\n",
              "    <tr>\n",
              "      <th>970</th>\n",
              "      <td>1</td>\n",
              "      <td>1</td>\n",
              "      <td>$1,277,212.77</td>\n",
              "      <td>$1,277,212.77</td>\n",
              "      <td>$0.00</td>\n",
              "      <td>$0.00</td>\n",
              "      <td>$2,444,985.19</td>\n",
              "    </tr>\n",
              "    <tr>\n",
              "      <th>1115</th>\n",
              "      <td>1</td>\n",
              "      <td>0</td>\n",
              "      <td>$35,063.63</td>\n",
              "      <td>$35,063.63</td>\n",
              "      <td>$0.00</td>\n",
              "      <td>$0.00</td>\n",
              "      <td>$0.00</td>\n",
              "    </tr>\n",
              "  </tbody>\n",
              "</table>\n",
              "</div>"
            ],
            "text/plain": [
              "      step  type        amount  ...  newBalanceOrig  oldBalanceDest  newBalanceDest\n",
              "2        1     0       $181.00  ...           $0.00           $0.00           $0.00\n",
              "3        1     1       $181.00  ...           $0.00      $21,182.00           $0.00\n",
              "251      1     0     $2,806.00  ...           $0.00           $0.00           $0.00\n",
              "252      1     1     $2,806.00  ...           $0.00      $26,202.00           $0.00\n",
              "680      1     0    $20,128.00  ...           $0.00           $0.00           $0.00\n",
              "681      1     1    $20,128.00  ...           $0.00       $6,268.00      $12,145.85\n",
              "724      1     1   $416,001.33  ...           $0.00         $102.00   $9,291,619.62\n",
              "969      1     0 $1,277,212.77  ...           $0.00           $0.00           $0.00\n",
              "970      1     1 $1,277,212.77  ...           $0.00           $0.00   $2,444,985.19\n",
              "1115     1     0    $35,063.63  ...           $0.00           $0.00           $0.00\n",
              "\n",
              "[10 rows x 7 columns]"
            ]
          },
          "metadata": {
            "tags": []
          },
          "execution_count": 117
        }
      ]
    },
    {
      "cell_type": "code",
      "metadata": {
        "id": "HZ4eeEv6g5-p",
        "colab_type": "code",
        "colab": {}
      },
      "source": [
        "X.loc[(X.oldBalanceDest == 0) & (X.newBalanceDest == 0) & (X.amount != 0), \\\n",
        "      ['oldBalanceDest', 'newBalanceDest']] = - 1"
      ],
      "execution_count": 0,
      "outputs": []
    },
    {
      "cell_type": "code",
      "metadata": {
        "id": "MhymlJNLhAfr",
        "colab_type": "code",
        "colab": {
          "base_uri": "https://localhost:8080/",
          "height": 204
        },
        "outputId": "8cf844a5-25ca-484c-ad38-a34e20c7d12d"
      },
      "source": [
        "X.head()"
      ],
      "execution_count": 120,
      "outputs": [
        {
          "output_type": "execute_result",
          "data": {
            "text/html": [
              "<div>\n",
              "<style scoped>\n",
              "    .dataframe tbody tr th:only-of-type {\n",
              "        vertical-align: middle;\n",
              "    }\n",
              "\n",
              "    .dataframe tbody tr th {\n",
              "        vertical-align: top;\n",
              "    }\n",
              "\n",
              "    .dataframe thead th {\n",
              "        text-align: right;\n",
              "    }\n",
              "</style>\n",
              "<table border=\"1\" class=\"dataframe\">\n",
              "  <thead>\n",
              "    <tr style=\"text-align: right;\">\n",
              "      <th></th>\n",
              "      <th>step</th>\n",
              "      <th>type</th>\n",
              "      <th>amount</th>\n",
              "      <th>oldBalanceOrig</th>\n",
              "      <th>newBalanceOrig</th>\n",
              "      <th>oldBalanceDest</th>\n",
              "      <th>newBalanceDest</th>\n",
              "    </tr>\n",
              "  </thead>\n",
              "  <tbody>\n",
              "    <tr>\n",
              "      <th>2</th>\n",
              "      <td>1</td>\n",
              "      <td>0</td>\n",
              "      <td>$181.00</td>\n",
              "      <td>$181.00</td>\n",
              "      <td>$0.00</td>\n",
              "      <td>$-1.00</td>\n",
              "      <td>$-1.00</td>\n",
              "    </tr>\n",
              "    <tr>\n",
              "      <th>3</th>\n",
              "      <td>1</td>\n",
              "      <td>1</td>\n",
              "      <td>$181.00</td>\n",
              "      <td>$181.00</td>\n",
              "      <td>$0.00</td>\n",
              "      <td>$21,182.00</td>\n",
              "      <td>$0.00</td>\n",
              "    </tr>\n",
              "    <tr>\n",
              "      <th>15</th>\n",
              "      <td>1</td>\n",
              "      <td>1</td>\n",
              "      <td>$229,133.94</td>\n",
              "      <td>$15,325.00</td>\n",
              "      <td>$0.00</td>\n",
              "      <td>$5,083.00</td>\n",
              "      <td>$51,513.44</td>\n",
              "    </tr>\n",
              "    <tr>\n",
              "      <th>19</th>\n",
              "      <td>1</td>\n",
              "      <td>0</td>\n",
              "      <td>$215,310.30</td>\n",
              "      <td>$705.00</td>\n",
              "      <td>$0.00</td>\n",
              "      <td>$22,425.00</td>\n",
              "      <td>$0.00</td>\n",
              "    </tr>\n",
              "    <tr>\n",
              "      <th>24</th>\n",
              "      <td>1</td>\n",
              "      <td>0</td>\n",
              "      <td>$311,685.89</td>\n",
              "      <td>$10,835.00</td>\n",
              "      <td>$0.00</td>\n",
              "      <td>$6,267.00</td>\n",
              "      <td>$2,719,172.89</td>\n",
              "    </tr>\n",
              "  </tbody>\n",
              "</table>\n",
              "</div>"
            ],
            "text/plain": [
              "    step  type      amount  ...  newBalanceOrig  oldBalanceDest  newBalanceDest\n",
              "2      1     0     $181.00  ...           $0.00          $-1.00          $-1.00\n",
              "3      1     1     $181.00  ...           $0.00      $21,182.00           $0.00\n",
              "15     1     1 $229,133.94  ...           $0.00       $5,083.00      $51,513.44\n",
              "19     1     0 $215,310.30  ...           $0.00      $22,425.00           $0.00\n",
              "24     1     0 $311,685.89  ...           $0.00       $6,267.00   $2,719,172.89\n",
              "\n",
              "[5 rows x 7 columns]"
            ]
          },
          "metadata": {
            "tags": []
          },
          "execution_count": 120
        }
      ]
    },
    {
      "cell_type": "code",
      "metadata": {
        "id": "hAfxisLxhKG9",
        "colab_type": "code",
        "colab": {}
      },
      "source": [
        "The data also has several transactions with zero balances in the originating account both before and after a non-zero amount is transacted. In this case, the fraction of such transactions is much smaller in fraudulent (0.3%) compared to genuine transactions (47%). Once again, from similar reasoning as above, instead of imputing a numerical value we replace the value of 0 with a null value."
      ],
      "execution_count": 0,
      "outputs": []
    },
    {
      "cell_type": "markdown",
      "metadata": {
        "id": "Z--PMEXOhLnU",
        "colab_type": "text"
      },
      "source": [
        "* The data also has several transactions with zero balances in the originating account both before and after a non-zero amount is transacted. \n",
        "* In this case, the fraction of such transactions is much smaller in fraudulent (0.3%) compared to genuine transactions (47%). \n",
        "* Once again, from similar reasoning as above, instead of imputing a numerical value we replace the value of 0 with a null value."
      ]
    }
  ]
}